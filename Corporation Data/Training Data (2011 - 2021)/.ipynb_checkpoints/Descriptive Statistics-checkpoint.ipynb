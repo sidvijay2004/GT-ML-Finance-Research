{
 "cells": [
  {
   "cell_type": "code",
   "execution_count": 60,
   "id": "3a2458d0",
   "metadata": {},
   "outputs": [
    {
     "name": "stdout",
     "output_type": "stream",
     "text": [
      "            Date       Open       High        Low      Close  Adj Close  \\\n",
      "0     2011-01-03  14.856315  15.083214  14.856315  15.052330  15.052330   \n",
      "1     2011-01-04  15.083962  15.097909  14.946975  14.996788  14.996788   \n",
      "2     2011-01-05  14.945730  15.201272  14.945232  15.169890  15.169890   \n",
      "3     2011-01-06  15.209989  15.403016  15.194298  15.280226  15.280226   \n",
      "4     2011-01-07  15.340251  15.398533  15.196291  15.353451  15.353451   \n",
      "...          ...        ...        ...        ...        ...        ...   \n",
      "2512  2020-12-24  86.750000  87.300003  86.455498  86.942497  86.942497   \n",
      "2513  2020-12-28  87.581749  89.536400  87.316750  88.804497  88.804497   \n",
      "2514  2020-12-29  89.389503  89.622002  87.804497  87.935997  87.935997   \n",
      "2515  2020-12-30  88.100502  88.254753  86.279999  86.975998  86.975998   \n",
      "2516  2020-12-31  86.771004  87.946503  86.771004  87.594002  87.594002   \n",
      "\n",
      "         Volume  \n",
      "0      94962614  \n",
      "1      73253547  \n",
      "2     101671667  \n",
      "3      82620526  \n",
      "4      84363033  \n",
      "...         ...  \n",
      "2512    6936000  \n",
      "2513   27860000  \n",
      "2514   25988000  \n",
      "2515   26122000  \n",
      "2516   20238000  \n",
      "\n",
      "[2517 rows x 7 columns]\n"
     ]
    }
   ],
   "source": [
    "import pandas as pd\n",
    "\n",
    "#CHANGE CSV FILES\n",
    "\n",
    "# Read in CSV Files for companies\n",
    "apple_df = pd.read_csv('AAPL_Training.csv')\n",
    "amazon_df = pd.read_csv('AMZN_Training.csv')\n",
    "google_df = pd.read_csv('GOOG_Training.csv')\n",
    "microsoft_df = pd.read_csv('MSFT_Training.csv')\n",
    "tesla_df = pd.read_csv('TSLA_Training.csv')\n",
    "\n",
    "print(google_df)\n"
   ]
  },
  {
   "cell_type": "code",
   "execution_count": 61,
   "id": "088b5f4c",
   "metadata": {},
   "outputs": [],
   "source": [
    "# Function for calculating FIRST parameter (each day's high - low)\n",
    "\n",
    "def calculate_high_low_diff(df):\n",
    "    high_low_values = df[\"High\"] - df[\"Low\"]\n",
    "    new_df = pd.DataFrame({\"Date\": df[\"Date\"], \"High-Low\": high_low_values})\n",
    "    return new_df\n",
    "\n"
   ]
  },
  {
   "cell_type": "code",
   "execution_count": 62,
   "id": "4264dbe9",
   "metadata": {},
   "outputs": [],
   "source": [
    "# Variable 1\n",
    "# New DataFrame for each company's High-Low Variable\n",
    "\n",
    "apple_high_minus_low = calculate_high_low_diff(apple_df)\n",
    "amazon_high_minus_low = calculate_high_low_diff(amazon_df)\n",
    "google_high_minus_low = calculate_high_low_diff(google_df)\n",
    "microsoft_high_minus_low = calculate_high_low_diff(microsoft_df)\n",
    "tesla_high_minus_low = calculate_high_low_diff(tesla_df)\n"
   ]
  },
  {
   "cell_type": "code",
   "execution_count": 63,
   "id": "a1595175",
   "metadata": {},
   "outputs": [],
   "source": [
    "# Function for calculating SECOND parameter (each day's close - open)\n",
    "\n",
    "def calculate_close_open_diff(df):\n",
    "    new_df = pd.DataFrame()\n",
    "    new_df['Date'] = df['Date']\n",
    "    new_df['Close-Open'] = df['Close'] - df['Open']\n",
    "    return new_df\n"
   ]
  },
  {
   "cell_type": "code",
   "execution_count": 64,
   "id": "72992b98",
   "metadata": {},
   "outputs": [
    {
     "name": "stdout",
     "output_type": "stream",
     "text": [
      "            Date  Close-Open\n",
      "0     2011-01-03   -0.014666\n",
      "1     2011-01-04    0.000667\n",
      "2     2011-01-05    0.023334\n",
      "3     2011-01-06    0.070000\n",
      "4     2011-01-07    0.016000\n",
      "...          ...         ...\n",
      "2512  2020-12-24    6.259994\n",
      "2513  2020-12-28   -3.606674\n",
      "2514  2020-12-29    1.663346\n",
      "2515  2020-12-30    7.593338\n",
      "2516  2020-12-31    1.893326\n",
      "\n",
      "[2517 rows x 2 columns]\n"
     ]
    }
   ],
   "source": [
    "# Variable 2\n",
    "# New DataFrame for each company's Close-Open Variable\n",
    "\n",
    "apple_high_minus_low = calculate_close_open_diff(apple_df)\n",
    "amazon_high_minus_low = calculate_close_open_diff(amazon_df)\n",
    "google_high_minus_low = calculate_close_open_diff(google_df)\n",
    "microsoft_high_minus_low = calculate_close_open_diff(microsoft_df)\n",
    "tesla_high_minus_low = calculate_close_open_diff(tesla_df)\n",
    "\n",
    "print(tesla_high_minus_low)\n"
   ]
  },
  {
   "cell_type": "code",
   "execution_count": 71,
   "id": "dcdc7661",
   "metadata": {},
   "outputs": [],
   "source": [
    "# Function for calculating THIRD parameter (7 Day Moving Average)\n",
    "\n",
    "def moving_average(dataframe, days):\n",
    "    # Create a new dataframe with the moving average\n",
    "    ma_df = pd.DataFrame()\n",
    "    ma_df['Date'] = dataframe['Date']\n",
    "    ma_df['Moving Avg'] = dataframe['Close'].rolling(window=days).mean()\n",
    "\n",
    "    # Add a column with the date of each week\n",
    "    ma_df['Week'] = pd.to_datetime(ma_df['Date']).dt.to_period('W').dt.start_time\n",
    "    \n",
    "    # Group by week and get the last date and moving average for each week\n",
    "    ma_df = ma_df.groupby('Week').tail(1)\n",
    "\n",
    "    return ma_df\n"
   ]
  },
  {
   "cell_type": "code",
   "execution_count": 76,
   "id": "55dd02bc",
   "metadata": {},
   "outputs": [
    {
     "name": "stdout",
     "output_type": "stream",
     "text": [
      "            Moving Avg       Week\n",
      "Date                             \n",
      "2011-01-07   11.890786 2011-01-03\n",
      "2011-01-14   12.304786 2011-01-10\n",
      "2011-01-21   12.052643 2011-01-17\n",
      "2011-01-28   12.157214 2011-01-24\n",
      "2011-02-04   12.275786 2011-01-31\n"
     ]
    }
   ],
   "source": [
    "ma_7days = moving_average(apple_df, 5)\n",
    "ma_7days.set_index('Date', inplace=True)\n",
    "print(ma_7days.head())\n"
   ]
  },
  {
   "cell_type": "code",
   "execution_count": 77,
   "id": "9e7e1033",
   "metadata": {},
   "outputs": [
    {
     "name": "stdout",
     "output_type": "stream",
     "text": [
      "            Moving Avg       Week\n",
      "Date                             \n",
      "2011-01-07         NaN 2011-01-03\n",
      "2011-01-14   12.097786 2011-01-10\n",
      "2011-01-21   12.134571 2011-01-17\n",
      "2011-01-28   12.104929 2011-01-24\n",
      "2011-02-04   12.216500 2011-01-31\n",
      "...                ...        ...\n",
      "2020-12-04  118.902000 2020-11-30\n",
      "2020-12-11  122.560001 2020-12-07\n",
      "2020-12-18  124.838999 2020-12-14\n",
      "2020-12-24  127.828001 2020-12-21\n",
      "2020-12-31  131.637001 2020-12-28\n",
      "\n",
      "[522 rows x 2 columns]\n"
     ]
    }
   ],
   "source": [
    "ma_7days = moving_average(apple_df, 10)\n",
    "ma_7days.set_index('Date', inplace=True)\n",
    "print(ma_7days)"
   ]
  },
  {
   "cell_type": "code",
   "execution_count": 90,
   "id": "954a05c0",
   "metadata": {},
   "outputs": [],
   "source": [
    "import pandas as pd\n",
    "\n",
    "def calculate_ma(df, weeks):\n",
    "    # Create a new column with the rolling average\n",
    "    ma_column = f\"{weeks}-Day MA\"\n",
    "    df[ma_column] = df[\"Close*\"].rolling(window=weeks*5).mean()\n",
    "    \n",
    "    # Create a new column with the week start dates\n",
    "    df[\"Week\"] = pd.to_datetime(df[\"Date\"])\n",
    "    df[\"Week\"] = df[\"Week\"].apply(lambda x: x - pd.Timedelta(days=x.dayofweek))\n",
    "    \n",
    "    # Filter the dataframe to only show rows with start of week dates\n",
    "    filtered_df = df[df[\"Date\"] == df[\"Week\"]]\n",
    "    \n",
    "    # Keep only the Week and MA columns and return the filtered dataframe\n",
    "    return filtered_df[[\"Week\", ma_column]]\n"
   ]
  },
  {
   "cell_type": "code",
   "execution_count": 92,
   "id": "ba5fafb1",
   "metadata": {},
   "outputs": [
    {
     "name": "stdout",
     "output_type": "stream",
     "text": [
      "           Week   14-Day MA\n",
      "0    2011-01-03   11.770357\n",
      "5    2011-01-10   11.947381\n",
      "14   2011-01-24   12.129206\n",
      "19   2011-01-31   12.072214\n",
      "24   2011-02-07   12.268036\n",
      "...         ...         ...\n",
      "2494 2020-11-30  117.121110\n",
      "2499 2020-12-07  120.175556\n",
      "2504 2020-12-14  122.833000\n",
      "2509 2020-12-21  125.286999\n",
      "2513 2020-12-28  130.086667\n",
      "\n",
      "[473 rows x 2 columns]\n"
     ]
    }
   ],
   "source": [
    "# apple_df\n",
    "print(calculate_ma(apple_df, 14));\n",
    "\n",
    "\n",
    "\n"
   ]
  },
  {
   "cell_type": "code",
   "execution_count": 82,
   "id": "20393880",
   "metadata": {},
   "outputs": [
    {
     "data": {
      "text/html": [
       "<div>\n",
       "<style scoped>\n",
       "    .dataframe tbody tr th:only-of-type {\n",
       "        vertical-align: middle;\n",
       "    }\n",
       "\n",
       "    .dataframe tbody tr th {\n",
       "        vertical-align: top;\n",
       "    }\n",
       "\n",
       "    .dataframe thead th {\n",
       "        text-align: right;\n",
       "    }\n",
       "</style>\n",
       "<table border=\"1\" class=\"dataframe\">\n",
       "  <thead>\n",
       "    <tr style=\"text-align: right;\">\n",
       "      <th></th>\n",
       "      <th>Date</th>\n",
       "      <th>Moving Avg</th>\n",
       "      <th>Week</th>\n",
       "    </tr>\n",
       "  </thead>\n",
       "  <tbody>\n",
       "    <tr>\n",
       "      <th>4</th>\n",
       "      <td>2011-01-07</td>\n",
       "      <td>NaN</td>\n",
       "      <td>2011-01-03</td>\n",
       "    </tr>\n",
       "    <tr>\n",
       "      <th>9</th>\n",
       "      <td>2011-01-14</td>\n",
       "      <td>12.097786</td>\n",
       "      <td>2011-01-10</td>\n",
       "    </tr>\n",
       "    <tr>\n",
       "      <th>13</th>\n",
       "      <td>2011-01-21</td>\n",
       "      <td>12.134571</td>\n",
       "      <td>2011-01-17</td>\n",
       "    </tr>\n",
       "    <tr>\n",
       "      <th>18</th>\n",
       "      <td>2011-01-28</td>\n",
       "      <td>12.104929</td>\n",
       "      <td>2011-01-24</td>\n",
       "    </tr>\n",
       "    <tr>\n",
       "      <th>23</th>\n",
       "      <td>2011-02-04</td>\n",
       "      <td>12.216500</td>\n",
       "      <td>2011-01-31</td>\n",
       "    </tr>\n",
       "    <tr>\n",
       "      <th>...</th>\n",
       "      <td>...</td>\n",
       "      <td>...</td>\n",
       "      <td>...</td>\n",
       "    </tr>\n",
       "    <tr>\n",
       "      <th>2498</th>\n",
       "      <td>2020-12-04</td>\n",
       "      <td>118.902000</td>\n",
       "      <td>2020-11-30</td>\n",
       "    </tr>\n",
       "    <tr>\n",
       "      <th>2503</th>\n",
       "      <td>2020-12-11</td>\n",
       "      <td>122.560001</td>\n",
       "      <td>2020-12-07</td>\n",
       "    </tr>\n",
       "    <tr>\n",
       "      <th>2508</th>\n",
       "      <td>2020-12-18</td>\n",
       "      <td>124.838999</td>\n",
       "      <td>2020-12-14</td>\n",
       "    </tr>\n",
       "    <tr>\n",
       "      <th>2512</th>\n",
       "      <td>2020-12-24</td>\n",
       "      <td>127.828001</td>\n",
       "      <td>2020-12-21</td>\n",
       "    </tr>\n",
       "    <tr>\n",
       "      <th>2516</th>\n",
       "      <td>2020-12-31</td>\n",
       "      <td>131.637001</td>\n",
       "      <td>2020-12-28</td>\n",
       "    </tr>\n",
       "  </tbody>\n",
       "</table>\n",
       "<p>522 rows × 3 columns</p>\n",
       "</div>"
      ],
      "text/plain": [
       "            Date  Moving Avg       Week\n",
       "4     2011-01-07         NaN 2011-01-03\n",
       "9     2011-01-14   12.097786 2011-01-10\n",
       "13    2011-01-21   12.134571 2011-01-17\n",
       "18    2011-01-28   12.104929 2011-01-24\n",
       "23    2011-02-04   12.216500 2011-01-31\n",
       "...          ...         ...        ...\n",
       "2498  2020-12-04  118.902000 2020-11-30\n",
       "2503  2020-12-11  122.560001 2020-12-07\n",
       "2508  2020-12-18  124.838999 2020-12-14\n",
       "2512  2020-12-24  127.828001 2020-12-21\n",
       "2516  2020-12-31  131.637001 2020-12-28\n",
       "\n",
       "[522 rows x 3 columns]"
      ]
     },
     "execution_count": 82,
     "metadata": {},
     "output_type": "execute_result"
    }
   ],
   "source": [
    "moving_average(apple_df, weeks=2)\n"
   ]
  },
  {
   "cell_type": "code",
   "execution_count": null,
   "id": "c97a5606",
   "metadata": {},
   "outputs": [],
   "source": []
  }
 ],
 "metadata": {
  "kernelspec": {
   "display_name": "Python 3 (ipykernel)",
   "language": "python",
   "name": "python3"
  },
  "language_info": {
   "codemirror_mode": {
    "name": "ipython",
    "version": 3
   },
   "file_extension": ".py",
   "mimetype": "text/x-python",
   "name": "python",
   "nbconvert_exporter": "python",
   "pygments_lexer": "ipython3",
   "version": "3.11.1"
  }
 },
 "nbformat": 4,
 "nbformat_minor": 5
}
