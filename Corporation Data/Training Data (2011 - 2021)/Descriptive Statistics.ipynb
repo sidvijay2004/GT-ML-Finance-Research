{
 "cells": [
  {
   "cell_type": "code",
   "execution_count": 105,
   "id": "3a2458d0",
   "metadata": {},
   "outputs": [
    {
     "name": "stdout",
     "output_type": "stream",
     "text": [
      "            Date       Open       High        Low      Close  Adj Close  \\\n",
      "0     2011-01-03  14.856315  15.083214  14.856315  15.052330  15.052330   \n",
      "1     2011-01-04  15.083962  15.097909  14.946975  14.996788  14.996788   \n",
      "2     2011-01-05  14.945730  15.201272  14.945232  15.169890  15.169890   \n",
      "3     2011-01-06  15.209989  15.403016  15.194298  15.280226  15.280226   \n",
      "4     2011-01-07  15.340251  15.398533  15.196291  15.353451  15.353451   \n",
      "...          ...        ...        ...        ...        ...        ...   \n",
      "2512  2020-12-24  86.750000  87.300003  86.455498  86.942497  86.942497   \n",
      "2513  2020-12-28  87.581749  89.536400  87.316750  88.804497  88.804497   \n",
      "2514  2020-12-29  89.389503  89.622002  87.804497  87.935997  87.935997   \n",
      "2515  2020-12-30  88.100502  88.254753  86.279999  86.975998  86.975998   \n",
      "2516  2020-12-31  86.771004  87.946503  86.771004  87.594002  87.594002   \n",
      "\n",
      "         Volume  \n",
      "0      94962614  \n",
      "1      73253547  \n",
      "2     101671667  \n",
      "3      82620526  \n",
      "4      84363033  \n",
      "...         ...  \n",
      "2512    6936000  \n",
      "2513   27860000  \n",
      "2514   25988000  \n",
      "2515   26122000  \n",
      "2516   20238000  \n",
      "\n",
      "[2517 rows x 7 columns]\n"
     ]
    }
   ],
   "source": [
    "import pandas as pd\n",
    "\n",
    "#CHANGE CSV FILES\n",
    "\n",
    "# Read in CSV Files for companies\n",
    "apple_df = pd.read_csv('AAPL_Training.csv')\n",
    "amazon_df = pd.read_csv('AMZN_Training.csv')\n",
    "google_df = pd.read_csv('GOOG_Training.csv')\n",
    "microsoft_df = pd.read_csv('MSFT_Training.csv')\n",
    "tesla_df = pd.read_csv('TSLA_Training.csv')\n",
    "\n",
    "print(google_df)\n"
   ]
  },
  {
   "cell_type": "code",
   "execution_count": 106,
   "id": "088b5f4c",
   "metadata": {},
   "outputs": [],
   "source": [
    "# Function for calculating FIRST parameter (each day's high - low)\n",
    "\n",
    "def calculate_high_low_diff(df):\n",
    "    high_low_values = df[\"High\"] - df[\"Low\"]\n",
    "    new_df = pd.DataFrame({\"Date\": df[\"Date\"], \"High-Low\": high_low_values})\n",
    "    return new_df\n",
    "\n"
   ]
  },
  {
   "cell_type": "code",
   "execution_count": 107,
   "id": "4264dbe9",
   "metadata": {},
   "outputs": [],
   "source": [
    "# Variable 1\n",
    "# New DataFrame for each company's High-Low Variable\n",
    "\n",
    "apple_high_minus_low = calculate_high_low_diff(apple_df)\n",
    "amazon_high_minus_low = calculate_high_low_diff(amazon_df)\n",
    "google_high_minus_low = calculate_high_low_diff(google_df)\n",
    "microsoft_high_minus_low = calculate_high_low_diff(microsoft_df)\n",
    "tesla_high_minus_low = calculate_high_low_diff(tesla_df)\n"
   ]
  },
  {
   "cell_type": "code",
   "execution_count": 108,
   "id": "a1595175",
   "metadata": {},
   "outputs": [],
   "source": [
    "# Function for calculating SECOND parameter (each day's close - open)\n",
    "\n",
    "def calculate_close_open_diff(df):\n",
    "    new_df = pd.DataFrame()\n",
    "    new_df['Date'] = df['Date']\n",
    "    new_df['Close-Open'] = df['Close'] - df['Open']\n",
    "    return new_df\n"
   ]
  },
  {
   "cell_type": "code",
   "execution_count": 109,
   "id": "72992b98",
   "metadata": {},
   "outputs": [
    {
     "name": "stdout",
     "output_type": "stream",
     "text": [
      "            Date  Close-Open\n",
      "0     2011-01-03   -0.014666\n",
      "1     2011-01-04    0.000667\n",
      "2     2011-01-05    0.023334\n",
      "3     2011-01-06    0.070000\n",
      "4     2011-01-07    0.016000\n",
      "...          ...         ...\n",
      "2512  2020-12-24    6.259994\n",
      "2513  2020-12-28   -3.606674\n",
      "2514  2020-12-29    1.663346\n",
      "2515  2020-12-30    7.593338\n",
      "2516  2020-12-31    1.893326\n",
      "\n",
      "[2517 rows x 2 columns]\n"
     ]
    }
   ],
   "source": [
    "# Variable 2\n",
    "# New DataFrame for each company's Close-Open Variable\n",
    "\n",
    "apple_high_minus_low = calculate_close_open_diff(apple_df)\n",
    "amazon_high_minus_low = calculate_close_open_diff(amazon_df)\n",
    "google_high_minus_low = calculate_close_open_diff(google_df)\n",
    "microsoft_high_minus_low = calculate_close_open_diff(microsoft_df)\n",
    "tesla_high_minus_low = calculate_close_open_diff(tesla_df)\n",
    "\n",
    "print(tesla_high_minus_low)\n"
   ]
  },
  {
   "cell_type": "code",
   "execution_count": 110,
   "id": "dcdc7661",
   "metadata": {},
   "outputs": [],
   "source": [
    "# Function for calculating THIRD parameter (7 Day Moving Average)\n",
    "\n",
    "def moving_average(dataframe, days):\n",
    "    # Create a new dataframe with the moving average\n",
    "    ma_df = pd.DataFrame()\n",
    "    ma_df['Date'] = dataframe['Date']\n",
    "    ma_df['Moving Avg'] = dataframe['Close'].rolling(window=days).mean()\n",
    "\n",
    "    # Add a column with the date of each week\n",
    "    ma_df['Week'] = pd.to_datetime(ma_df['Date']).dt.to_period('W').dt.start_time\n",
    "    \n",
    "    # Group by week and get the last date and moving average for each week\n",
    "    ma_df = ma_df.groupby('Week').tail(1)\n",
    "\n",
    "    return ma_df\n"
   ]
  },
  {
   "cell_type": "code",
   "execution_count": 111,
   "id": "55dd02bc",
   "metadata": {},
   "outputs": [
    {
     "name": "stdout",
     "output_type": "stream",
     "text": [
      "            Moving Avg       Week\n",
      "Date                             \n",
      "2011-01-07   11.890786 2011-01-03\n",
      "2011-01-14   12.304786 2011-01-10\n",
      "2011-01-21   12.052643 2011-01-17\n",
      "2011-01-28   12.157214 2011-01-24\n",
      "2011-02-04   12.275786 2011-01-31\n"
     ]
    }
   ],
   "source": [
    "ma_7days = moving_average(apple_df, 5)\n",
    "ma_7days.set_index('Date', inplace=True)\n",
    "print(ma_7days.head())\n"
   ]
  },
  {
   "cell_type": "code",
   "execution_count": 112,
   "id": "9e7e1033",
   "metadata": {},
   "outputs": [
    {
     "name": "stdout",
     "output_type": "stream",
     "text": [
      "            Moving Avg       Week\n",
      "Date                             \n",
      "2011-01-07         NaN 2011-01-03\n",
      "2011-01-14         NaN 2011-01-10\n",
      "2011-01-21         NaN 2011-01-17\n",
      "2011-01-28   12.142119 2011-01-24\n",
      "2011-02-04   12.161881 2011-01-31\n",
      "...                ...        ...\n",
      "2020-12-04  118.976000 2020-11-30\n",
      "2020-12-11  120.305333 2020-12-07\n",
      "2020-12-18  123.895333 2020-12-14\n",
      "2020-12-24  126.245333 2020-12-21\n",
      "2020-12-31  129.299334 2020-12-28\n",
      "\n",
      "[522 rows x 2 columns]\n"
     ]
    }
   ],
   "source": [
    "ma_7days = moving_average(apple_df, 15)\n",
    "ma_7days.set_index('Date', inplace=True)\n",
    "print(ma_7days)"
   ]
  },
  {
   "cell_type": "code",
   "execution_count": 99,
   "id": "954a05c0",
   "metadata": {},
   "outputs": [],
   "source": [
    "import pandas as pd\n",
    "from datetime import timedelta\n",
    "\n",
    "def moving_average(df, weeks):\n",
    "    # convert 'Date' column to datetime\n",
    "    df['Date'] = pd.to_datetime(df['Date'])\n",
    "    # set 'Date' as the index\n",
    "    df.set_index('Date', inplace=True)\n",
    "    # resample to weekly frequency, taking the last value of each week\n",
    "    df_weekly = df.resample('W').last()\n",
    "    # compute the rolling mean of the 'Close' column for the specified number of weeks\n",
    "    ma = df_weekly['Close'].rolling(weeks).mean()\n",
    "    # create a new DataFrame with the moving average\n",
    "    df_ma = pd.DataFrame({'Date': ma.index, 'Moving Average': ma})\n",
    "    # forward-fill missing values\n",
    "    df_ma.fillna(method='ffill', inplace=True)\n",
    "    # set 'Date' as the index\n",
    "    df_ma.set_index('Date', inplace=True)\n",
    "    # join the original DataFrame with the new DataFrame\n",
    "    df_ma = df.join(df_ma)\n",
    "    return df_ma\n"
   ]
  },
  {
   "cell_type": "code",
   "execution_count": 101,
   "id": "ba5fafb1",
   "metadata": {},
   "outputs": [
    {
     "name": "stdout",
     "output_type": "stream",
     "text": [
      "                  Open        High         Low       Close   Adj Close  \\\n",
      "Date                                                                     \n",
      "2011-01-03   11.630000   11.795000   11.601429   11.770357   10.017968   \n",
      "2011-01-04   11.872857   11.875000   11.719643   11.831786   10.070250   \n",
      "2011-01-05   11.769643   11.940714   11.767857   11.928571   10.152627   \n",
      "2011-01-06   11.954286   11.973214   11.889286   11.918929   10.144420   \n",
      "2011-01-07   11.928214   12.012500   11.853571   12.004286   10.217066   \n",
      "...                ...         ...         ...         ...         ...   \n",
      "2020-12-24  131.320007  133.460007  131.100006  131.970001  130.205780   \n",
      "2020-12-28  133.990005  137.339996  133.509995  136.690002  134.862686   \n",
      "2020-12-29  138.050003  138.789993  134.339996  134.869995  133.067001   \n",
      "2020-12-30  135.580002  135.990005  133.399994  133.720001  131.932373   \n",
      "2020-12-31  134.080002  134.740005  131.720001  132.690002  130.916153   \n",
      "\n",
      "               Volume   14-Day MA       Week  Moving Average  \n",
      "Date                                                          \n",
      "2011-01-03  445138400         NaN 2011-01-03             NaN  \n",
      "2011-01-04  309080800         NaN 2011-01-03             NaN  \n",
      "2011-01-05  255519600         NaN 2011-01-03             NaN  \n",
      "2011-01-06  300428800         NaN 2011-01-03             NaN  \n",
      "2011-01-07  311931200         NaN 2011-01-03             NaN  \n",
      "...               ...         ...        ...             ...  \n",
      "2020-12-24   54930100  118.165428 2020-12-21             NaN  \n",
      "2020-12-28  124486200  118.541857 2020-12-28             NaN  \n",
      "2020-12-29  121047300  118.942286 2020-12-28             NaN  \n",
      "2020-12-30   96452100  119.280000 2020-12-28             NaN  \n",
      "2020-12-31   99116600  119.578286 2020-12-28             NaN  \n",
      "\n",
      "[2517 rows x 9 columns]\n"
     ]
    }
   ],
   "source": [
    "# apple_df\n",
    "df_ma = moving_average(apple_df, 4) # calculate 4-week moving average\n",
    "print(df_ma)\n",
    "\n",
    "\n"
   ]
  },
  {
   "cell_type": "code",
   "execution_count": 82,
   "id": "20393880",
   "metadata": {},
   "outputs": [
    {
     "data": {
      "text/html": [
       "<div>\n",
       "<style scoped>\n",
       "    .dataframe tbody tr th:only-of-type {\n",
       "        vertical-align: middle;\n",
       "    }\n",
       "\n",
       "    .dataframe tbody tr th {\n",
       "        vertical-align: top;\n",
       "    }\n",
       "\n",
       "    .dataframe thead th {\n",
       "        text-align: right;\n",
       "    }\n",
       "</style>\n",
       "<table border=\"1\" class=\"dataframe\">\n",
       "  <thead>\n",
       "    <tr style=\"text-align: right;\">\n",
       "      <th></th>\n",
       "      <th>Date</th>\n",
       "      <th>Moving Avg</th>\n",
       "      <th>Week</th>\n",
       "    </tr>\n",
       "  </thead>\n",
       "  <tbody>\n",
       "    <tr>\n",
       "      <th>4</th>\n",
       "      <td>2011-01-07</td>\n",
       "      <td>NaN</td>\n",
       "      <td>2011-01-03</td>\n",
       "    </tr>\n",
       "    <tr>\n",
       "      <th>9</th>\n",
       "      <td>2011-01-14</td>\n",
       "      <td>12.097786</td>\n",
       "      <td>2011-01-10</td>\n",
       "    </tr>\n",
       "    <tr>\n",
       "      <th>13</th>\n",
       "      <td>2011-01-21</td>\n",
       "      <td>12.134571</td>\n",
       "      <td>2011-01-17</td>\n",
       "    </tr>\n",
       "    <tr>\n",
       "      <th>18</th>\n",
       "      <td>2011-01-28</td>\n",
       "      <td>12.104929</td>\n",
       "      <td>2011-01-24</td>\n",
       "    </tr>\n",
       "    <tr>\n",
       "      <th>23</th>\n",
       "      <td>2011-02-04</td>\n",
       "      <td>12.216500</td>\n",
       "      <td>2011-01-31</td>\n",
       "    </tr>\n",
       "    <tr>\n",
       "      <th>...</th>\n",
       "      <td>...</td>\n",
       "      <td>...</td>\n",
       "      <td>...</td>\n",
       "    </tr>\n",
       "    <tr>\n",
       "      <th>2498</th>\n",
       "      <td>2020-12-04</td>\n",
       "      <td>118.902000</td>\n",
       "      <td>2020-11-30</td>\n",
       "    </tr>\n",
       "    <tr>\n",
       "      <th>2503</th>\n",
       "      <td>2020-12-11</td>\n",
       "      <td>122.560001</td>\n",
       "      <td>2020-12-07</td>\n",
       "    </tr>\n",
       "    <tr>\n",
       "      <th>2508</th>\n",
       "      <td>2020-12-18</td>\n",
       "      <td>124.838999</td>\n",
       "      <td>2020-12-14</td>\n",
       "    </tr>\n",
       "    <tr>\n",
       "      <th>2512</th>\n",
       "      <td>2020-12-24</td>\n",
       "      <td>127.828001</td>\n",
       "      <td>2020-12-21</td>\n",
       "    </tr>\n",
       "    <tr>\n",
       "      <th>2516</th>\n",
       "      <td>2020-12-31</td>\n",
       "      <td>131.637001</td>\n",
       "      <td>2020-12-28</td>\n",
       "    </tr>\n",
       "  </tbody>\n",
       "</table>\n",
       "<p>522 rows × 3 columns</p>\n",
       "</div>"
      ],
      "text/plain": [
       "            Date  Moving Avg       Week\n",
       "4     2011-01-07         NaN 2011-01-03\n",
       "9     2011-01-14   12.097786 2011-01-10\n",
       "13    2011-01-21   12.134571 2011-01-17\n",
       "18    2011-01-28   12.104929 2011-01-24\n",
       "23    2011-02-04   12.216500 2011-01-31\n",
       "...          ...         ...        ...\n",
       "2498  2020-12-04  118.902000 2020-11-30\n",
       "2503  2020-12-11  122.560001 2020-12-07\n",
       "2508  2020-12-18  124.838999 2020-12-14\n",
       "2512  2020-12-24  127.828001 2020-12-21\n",
       "2516  2020-12-31  131.637001 2020-12-28\n",
       "\n",
       "[522 rows x 3 columns]"
      ]
     },
     "execution_count": 82,
     "metadata": {},
     "output_type": "execute_result"
    }
   ],
   "source": [
    "moving_average(apple_df, weeks=2)\n"
   ]
  },
  {
   "cell_type": "code",
   "execution_count": 123,
   "id": "bfa57194",
   "metadata": {},
   "outputs": [
    {
     "ename": "KeyError",
     "evalue": "'Date'",
     "output_type": "error",
     "traceback": [
      "\u001b[0;31m---------------------------------------------------------------------------\u001b[0m",
      "\u001b[0;31mKeyError\u001b[0m                                  Traceback (most recent call last)",
      "File \u001b[0;32m/Library/Frameworks/Python.framework/Versions/3.11/lib/python3.11/site-packages/pandas/core/indexes/base.py:3802\u001b[0m, in \u001b[0;36mIndex.get_loc\u001b[0;34m(self, key, method, tolerance)\u001b[0m\n\u001b[1;32m   3801\u001b[0m \u001b[38;5;28;01mtry\u001b[39;00m:\n\u001b[0;32m-> 3802\u001b[0m     \u001b[38;5;28;01mreturn\u001b[39;00m \u001b[38;5;28;43mself\u001b[39;49m\u001b[38;5;241;43m.\u001b[39;49m\u001b[43m_engine\u001b[49m\u001b[38;5;241;43m.\u001b[39;49m\u001b[43mget_loc\u001b[49m\u001b[43m(\u001b[49m\u001b[43mcasted_key\u001b[49m\u001b[43m)\u001b[49m\n\u001b[1;32m   3803\u001b[0m \u001b[38;5;28;01mexcept\u001b[39;00m \u001b[38;5;167;01mKeyError\u001b[39;00m \u001b[38;5;28;01mas\u001b[39;00m err:\n",
      "File \u001b[0;32m/Library/Frameworks/Python.framework/Versions/3.11/lib/python3.11/site-packages/pandas/_libs/index.pyx:138\u001b[0m, in \u001b[0;36mpandas._libs.index.IndexEngine.get_loc\u001b[0;34m()\u001b[0m\n",
      "File \u001b[0;32m/Library/Frameworks/Python.framework/Versions/3.11/lib/python3.11/site-packages/pandas/_libs/index.pyx:165\u001b[0m, in \u001b[0;36mpandas._libs.index.IndexEngine.get_loc\u001b[0;34m()\u001b[0m\n",
      "File \u001b[0;32mpandas/_libs/hashtable_class_helper.pxi:5745\u001b[0m, in \u001b[0;36mpandas._libs.hashtable.PyObjectHashTable.get_item\u001b[0;34m()\u001b[0m\n",
      "File \u001b[0;32mpandas/_libs/hashtable_class_helper.pxi:5753\u001b[0m, in \u001b[0;36mpandas._libs.hashtable.PyObjectHashTable.get_item\u001b[0;34m()\u001b[0m\n",
      "\u001b[0;31mKeyError\u001b[0m: 'Date'",
      "\nThe above exception was the direct cause of the following exception:\n",
      "\u001b[0;31mKeyError\u001b[0m                                  Traceback (most recent call last)",
      "Cell \u001b[0;32mIn[123], line 7\u001b[0m\n\u001b[1;32m      1\u001b[0m \u001b[38;5;28;01mimport\u001b[39;00m \u001b[38;5;21;01mpandas\u001b[39;00m \u001b[38;5;28;01mas\u001b[39;00m \u001b[38;5;21;01mpd\u001b[39;00m\n\u001b[1;32m      3\u001b[0m \u001b[38;5;66;03m# Load your dataframe\u001b[39;00m\n\u001b[1;32m      4\u001b[0m \u001b[38;5;66;03m# apple_df = pd.read_csv('apple.csv')\u001b[39;00m\n\u001b[1;32m      5\u001b[0m \n\u001b[1;32m      6\u001b[0m \u001b[38;5;66;03m# Convert the 'Date' column to a datetime object and set it as the index\u001b[39;00m\n\u001b[0;32m----> 7\u001b[0m apple_df[\u001b[38;5;124m'\u001b[39m\u001b[38;5;124mDate\u001b[39m\u001b[38;5;124m'\u001b[39m] \u001b[38;5;241m=\u001b[39m pd\u001b[38;5;241m.\u001b[39mto_datetime(\u001b[43mapple_df\u001b[49m\u001b[43m[\u001b[49m\u001b[38;5;124;43m'\u001b[39;49m\u001b[38;5;124;43mDate\u001b[39;49m\u001b[38;5;124;43m'\u001b[39;49m\u001b[43m]\u001b[49m)\n\u001b[1;32m      8\u001b[0m apple_df\u001b[38;5;241m.\u001b[39mset_index(\u001b[38;5;124m'\u001b[39m\u001b[38;5;124mDate\u001b[39m\u001b[38;5;124m'\u001b[39m, inplace\u001b[38;5;241m=\u001b[39m\u001b[38;5;28;01mTrue\u001b[39;00m)\n\u001b[1;32m     10\u001b[0m \u001b[38;5;66;03m# Resample to weekly frequency, starting on Mondays\u001b[39;00m\n",
      "File \u001b[0;32m/Library/Frameworks/Python.framework/Versions/3.11/lib/python3.11/site-packages/pandas/core/frame.py:3807\u001b[0m, in \u001b[0;36mDataFrame.__getitem__\u001b[0;34m(self, key)\u001b[0m\n\u001b[1;32m   3805\u001b[0m \u001b[38;5;28;01mif\u001b[39;00m \u001b[38;5;28mself\u001b[39m\u001b[38;5;241m.\u001b[39mcolumns\u001b[38;5;241m.\u001b[39mnlevels \u001b[38;5;241m>\u001b[39m \u001b[38;5;241m1\u001b[39m:\n\u001b[1;32m   3806\u001b[0m     \u001b[38;5;28;01mreturn\u001b[39;00m \u001b[38;5;28mself\u001b[39m\u001b[38;5;241m.\u001b[39m_getitem_multilevel(key)\n\u001b[0;32m-> 3807\u001b[0m indexer \u001b[38;5;241m=\u001b[39m \u001b[38;5;28;43mself\u001b[39;49m\u001b[38;5;241;43m.\u001b[39;49m\u001b[43mcolumns\u001b[49m\u001b[38;5;241;43m.\u001b[39;49m\u001b[43mget_loc\u001b[49m\u001b[43m(\u001b[49m\u001b[43mkey\u001b[49m\u001b[43m)\u001b[49m\n\u001b[1;32m   3808\u001b[0m \u001b[38;5;28;01mif\u001b[39;00m is_integer(indexer):\n\u001b[1;32m   3809\u001b[0m     indexer \u001b[38;5;241m=\u001b[39m [indexer]\n",
      "File \u001b[0;32m/Library/Frameworks/Python.framework/Versions/3.11/lib/python3.11/site-packages/pandas/core/indexes/base.py:3804\u001b[0m, in \u001b[0;36mIndex.get_loc\u001b[0;34m(self, key, method, tolerance)\u001b[0m\n\u001b[1;32m   3802\u001b[0m     \u001b[38;5;28;01mreturn\u001b[39;00m \u001b[38;5;28mself\u001b[39m\u001b[38;5;241m.\u001b[39m_engine\u001b[38;5;241m.\u001b[39mget_loc(casted_key)\n\u001b[1;32m   3803\u001b[0m \u001b[38;5;28;01mexcept\u001b[39;00m \u001b[38;5;167;01mKeyError\u001b[39;00m \u001b[38;5;28;01mas\u001b[39;00m err:\n\u001b[0;32m-> 3804\u001b[0m     \u001b[38;5;28;01mraise\u001b[39;00m \u001b[38;5;167;01mKeyError\u001b[39;00m(key) \u001b[38;5;28;01mfrom\u001b[39;00m \u001b[38;5;21;01merr\u001b[39;00m\n\u001b[1;32m   3805\u001b[0m \u001b[38;5;28;01mexcept\u001b[39;00m \u001b[38;5;167;01mTypeError\u001b[39;00m:\n\u001b[1;32m   3806\u001b[0m     \u001b[38;5;66;03m# If we have a listlike key, _check_indexing_error will raise\u001b[39;00m\n\u001b[1;32m   3807\u001b[0m     \u001b[38;5;66;03m#  InvalidIndexError. Otherwise we fall through and re-raise\u001b[39;00m\n\u001b[1;32m   3808\u001b[0m     \u001b[38;5;66;03m#  the TypeError.\u001b[39;00m\n\u001b[1;32m   3809\u001b[0m     \u001b[38;5;28mself\u001b[39m\u001b[38;5;241m.\u001b[39m_check_indexing_error(key)\n",
      "\u001b[0;31mKeyError\u001b[0m: 'Date'"
     ]
    }
   ],
   "source": [
    "import pandas as pd\n",
    "\n",
    "# Load your dataframe\n",
    "# apple_df = pd.read_csv('apple.csv')\n",
    "\n",
    "# Convert the 'Date' column to a datetime object and set it as the index\n",
    "apple_df['Date'] = pd.to_datetime(apple_df['Date'])\n",
    "apple_df.set_index('Date', inplace=True)\n",
    "\n",
    "# Resample to weekly frequency, starting on Mondays\n",
    "weekly_df = apple_df.resample('W-MON').last()\n",
    "\n",
    "# Calculate the moving average for each week interval, using a window of 2 weeks\n",
    "weekly_df['2W Moving Avg'] = weekly_df['Close'].rolling(window='2W-MON').mean()\n"
   ]
  },
  {
   "cell_type": "code",
   "execution_count": 124,
   "id": "f5cf01e0",
   "metadata": {},
   "outputs": [],
   "source": [
    "import pandas as pd\n",
    "\n",
    "def two_week_moving_average(data):\n",
    "    # Convert the 'Date' column to a datetime object and set it as the index\n",
    "    data['Date'] = pd.to_datetime(data['Date'])\n",
    "    data.set_index('Date', inplace=True)\n",
    "    \n",
    "    # Resample to weekly frequency, starting on Mondays\n",
    "    weekly_data = data.resample('W-MON').last()\n",
    "    \n",
    "    # Compute the 2-week moving average\n",
    "    two_week_ma = weekly_data['Close'].rolling(window=2).mean()\n",
    "    \n",
    "    return two_week_ma\n"
   ]
  },
  {
   "cell_type": "code",
   "execution_count": 125,
   "id": "95a4e356",
   "metadata": {},
   "outputs": [
    {
     "ename": "KeyError",
     "evalue": "'Date'",
     "output_type": "error",
     "traceback": [
      "\u001b[0;31m---------------------------------------------------------------------------\u001b[0m",
      "\u001b[0;31mKeyError\u001b[0m                                  Traceback (most recent call last)",
      "File \u001b[0;32m/Library/Frameworks/Python.framework/Versions/3.11/lib/python3.11/site-packages/pandas/core/indexes/base.py:3802\u001b[0m, in \u001b[0;36mIndex.get_loc\u001b[0;34m(self, key, method, tolerance)\u001b[0m\n\u001b[1;32m   3801\u001b[0m \u001b[38;5;28;01mtry\u001b[39;00m:\n\u001b[0;32m-> 3802\u001b[0m     \u001b[38;5;28;01mreturn\u001b[39;00m \u001b[38;5;28;43mself\u001b[39;49m\u001b[38;5;241;43m.\u001b[39;49m\u001b[43m_engine\u001b[49m\u001b[38;5;241;43m.\u001b[39;49m\u001b[43mget_loc\u001b[49m\u001b[43m(\u001b[49m\u001b[43mcasted_key\u001b[49m\u001b[43m)\u001b[49m\n\u001b[1;32m   3803\u001b[0m \u001b[38;5;28;01mexcept\u001b[39;00m \u001b[38;5;167;01mKeyError\u001b[39;00m \u001b[38;5;28;01mas\u001b[39;00m err:\n",
      "File \u001b[0;32m/Library/Frameworks/Python.framework/Versions/3.11/lib/python3.11/site-packages/pandas/_libs/index.pyx:138\u001b[0m, in \u001b[0;36mpandas._libs.index.IndexEngine.get_loc\u001b[0;34m()\u001b[0m\n",
      "File \u001b[0;32m/Library/Frameworks/Python.framework/Versions/3.11/lib/python3.11/site-packages/pandas/_libs/index.pyx:165\u001b[0m, in \u001b[0;36mpandas._libs.index.IndexEngine.get_loc\u001b[0;34m()\u001b[0m\n",
      "File \u001b[0;32mpandas/_libs/hashtable_class_helper.pxi:5745\u001b[0m, in \u001b[0;36mpandas._libs.hashtable.PyObjectHashTable.get_item\u001b[0;34m()\u001b[0m\n",
      "File \u001b[0;32mpandas/_libs/hashtable_class_helper.pxi:5753\u001b[0m, in \u001b[0;36mpandas._libs.hashtable.PyObjectHashTable.get_item\u001b[0;34m()\u001b[0m\n",
      "\u001b[0;31mKeyError\u001b[0m: 'Date'",
      "\nThe above exception was the direct cause of the following exception:\n",
      "\u001b[0;31mKeyError\u001b[0m                                  Traceback (most recent call last)",
      "Cell \u001b[0;32mIn[125], line 1\u001b[0m\n\u001b[0;32m----> 1\u001b[0m \u001b[43mtwo_week_moving_average\u001b[49m\u001b[43m(\u001b[49m\u001b[43mapple_df\u001b[49m\u001b[43m)\u001b[49m\n",
      "Cell \u001b[0;32mIn[124], line 5\u001b[0m, in \u001b[0;36mtwo_week_moving_average\u001b[0;34m(data)\u001b[0m\n\u001b[1;32m      3\u001b[0m \u001b[38;5;28;01mdef\u001b[39;00m \u001b[38;5;21mtwo_week_moving_average\u001b[39m(data):\n\u001b[1;32m      4\u001b[0m     \u001b[38;5;66;03m# Convert the 'Date' column to a datetime object and set it as the index\u001b[39;00m\n\u001b[0;32m----> 5\u001b[0m     data[\u001b[38;5;124m'\u001b[39m\u001b[38;5;124mDate\u001b[39m\u001b[38;5;124m'\u001b[39m] \u001b[38;5;241m=\u001b[39m pd\u001b[38;5;241m.\u001b[39mto_datetime(\u001b[43mdata\u001b[49m\u001b[43m[\u001b[49m\u001b[38;5;124;43m'\u001b[39;49m\u001b[38;5;124;43mDate\u001b[39;49m\u001b[38;5;124;43m'\u001b[39;49m\u001b[43m]\u001b[49m)\n\u001b[1;32m      6\u001b[0m     data\u001b[38;5;241m.\u001b[39mset_index(\u001b[38;5;124m'\u001b[39m\u001b[38;5;124mDate\u001b[39m\u001b[38;5;124m'\u001b[39m, inplace\u001b[38;5;241m=\u001b[39m\u001b[38;5;28;01mTrue\u001b[39;00m)\n\u001b[1;32m      8\u001b[0m     \u001b[38;5;66;03m# Resample to weekly frequency, starting on Mondays\u001b[39;00m\n",
      "File \u001b[0;32m/Library/Frameworks/Python.framework/Versions/3.11/lib/python3.11/site-packages/pandas/core/frame.py:3807\u001b[0m, in \u001b[0;36mDataFrame.__getitem__\u001b[0;34m(self, key)\u001b[0m\n\u001b[1;32m   3805\u001b[0m \u001b[38;5;28;01mif\u001b[39;00m \u001b[38;5;28mself\u001b[39m\u001b[38;5;241m.\u001b[39mcolumns\u001b[38;5;241m.\u001b[39mnlevels \u001b[38;5;241m>\u001b[39m \u001b[38;5;241m1\u001b[39m:\n\u001b[1;32m   3806\u001b[0m     \u001b[38;5;28;01mreturn\u001b[39;00m \u001b[38;5;28mself\u001b[39m\u001b[38;5;241m.\u001b[39m_getitem_multilevel(key)\n\u001b[0;32m-> 3807\u001b[0m indexer \u001b[38;5;241m=\u001b[39m \u001b[38;5;28;43mself\u001b[39;49m\u001b[38;5;241;43m.\u001b[39;49m\u001b[43mcolumns\u001b[49m\u001b[38;5;241;43m.\u001b[39;49m\u001b[43mget_loc\u001b[49m\u001b[43m(\u001b[49m\u001b[43mkey\u001b[49m\u001b[43m)\u001b[49m\n\u001b[1;32m   3808\u001b[0m \u001b[38;5;28;01mif\u001b[39;00m is_integer(indexer):\n\u001b[1;32m   3809\u001b[0m     indexer \u001b[38;5;241m=\u001b[39m [indexer]\n",
      "File \u001b[0;32m/Library/Frameworks/Python.framework/Versions/3.11/lib/python3.11/site-packages/pandas/core/indexes/base.py:3804\u001b[0m, in \u001b[0;36mIndex.get_loc\u001b[0;34m(self, key, method, tolerance)\u001b[0m\n\u001b[1;32m   3802\u001b[0m     \u001b[38;5;28;01mreturn\u001b[39;00m \u001b[38;5;28mself\u001b[39m\u001b[38;5;241m.\u001b[39m_engine\u001b[38;5;241m.\u001b[39mget_loc(casted_key)\n\u001b[1;32m   3803\u001b[0m \u001b[38;5;28;01mexcept\u001b[39;00m \u001b[38;5;167;01mKeyError\u001b[39;00m \u001b[38;5;28;01mas\u001b[39;00m err:\n\u001b[0;32m-> 3804\u001b[0m     \u001b[38;5;28;01mraise\u001b[39;00m \u001b[38;5;167;01mKeyError\u001b[39;00m(key) \u001b[38;5;28;01mfrom\u001b[39;00m \u001b[38;5;21;01merr\u001b[39;00m\n\u001b[1;32m   3805\u001b[0m \u001b[38;5;28;01mexcept\u001b[39;00m \u001b[38;5;167;01mTypeError\u001b[39;00m:\n\u001b[1;32m   3806\u001b[0m     \u001b[38;5;66;03m# If we have a listlike key, _check_indexing_error will raise\u001b[39;00m\n\u001b[1;32m   3807\u001b[0m     \u001b[38;5;66;03m#  InvalidIndexError. Otherwise we fall through and re-raise\u001b[39;00m\n\u001b[1;32m   3808\u001b[0m     \u001b[38;5;66;03m#  the TypeError.\u001b[39;00m\n\u001b[1;32m   3809\u001b[0m     \u001b[38;5;28mself\u001b[39m\u001b[38;5;241m.\u001b[39m_check_indexing_error(key)\n",
      "\u001b[0;31mKeyError\u001b[0m: 'Date'"
     ]
    }
   ],
   "source": [
    "two_week_moving_average(apple_df)"
   ]
  },
  {
   "cell_type": "code",
   "execution_count": null,
   "id": "ce6a41f3",
   "metadata": {},
   "outputs": [],
   "source": []
  }
 ],
 "metadata": {
  "kernelspec": {
   "display_name": "Python 3 (ipykernel)",
   "language": "python",
   "name": "python3"
  },
  "language_info": {
   "codemirror_mode": {
    "name": "ipython",
    "version": 3
   },
   "file_extension": ".py",
   "mimetype": "text/x-python",
   "name": "python",
   "nbconvert_exporter": "python",
   "pygments_lexer": "ipython3",
   "version": "3.11.1"
  }
 },
 "nbformat": 4,
 "nbformat_minor": 5
}
