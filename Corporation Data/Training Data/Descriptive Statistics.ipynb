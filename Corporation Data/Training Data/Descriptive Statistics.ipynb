{
 "cells": [
  {
   "cell_type": "code",
   "execution_count": 1,
   "id": "3a2458d0",
   "metadata": {},
   "outputs": [
    {
     "name": "stdout",
     "output_type": "stream",
     "text": [
      "            Date        Open        High         Low       Close   Adj Close  \\\n",
      "0     2009-04-06  116.000000  117.949997  114.050003  116.650002   93.618233   \n",
      "1     2009-04-07  114.000000  119.760002  113.570000  116.080002   93.160782   \n",
      "2     2009-04-08  117.370003  117.550003  112.500000  114.750000   92.093369   \n",
      "3     2009-04-09  119.790001  124.980003  117.449997  124.330002   99.781898   \n",
      "4     2009-04-13  122.809998  131.270004  122.500000  130.149994  104.452759   \n",
      "...          ...         ...         ...         ...         ...         ...   \n",
      "2007  2017-03-27  223.300003  227.070007  220.850006  225.479996  200.308594   \n",
      "2008  2017-03-28  225.580002  229.750000  225.100006  229.330002  203.728821   \n",
      "2009  2017-03-29  229.389999  229.970001  227.520004  228.449997  202.947067   \n",
      "2010  2017-03-30  229.479996  232.000000  229.380005  231.220001  205.407822   \n",
      "2011  2017-03-31  230.529999  230.800003  228.729996  229.720001  204.075256   \n",
      "\n",
      "        Volume  \n",
      "0     21098100  \n",
      "1     22183000  \n",
      "2     20406200  \n",
      "3     25610700  \n",
      "4     36460800  \n",
      "...        ...  \n",
      "2007   9194800  \n",
      "2008   4471200  \n",
      "2009   2636000  \n",
      "2010   3156800  \n",
      "2011   2858400  \n",
      "\n",
      "[2012 rows x 7 columns]\n"
     ]
    }
   ],
   "source": [
    "import pandas as pd\n",
    "\n",
    "#CHANGE CSV FILES\n",
    "\n",
    "# Read in CSV Files for companies\n",
    "goldman_df = pd.read_csv('GS_Training.csv')\n",
    "johnson_df = pd.read_csv('JNJ_Training.csv')\n",
    "jpmorgan_df = pd.read_csv('JPM_Training.csv')\n",
    "nike_df = pd.read_csv('NKE_Training.csv')\n",
    "pfizer_df = pd.read_csv('PFE_Training.csv')\n",
    "\n",
    "print(goldman_df)\n"
   ]
  },
  {
   "cell_type": "code",
   "execution_count": 2,
   "id": "088b5f4c",
   "metadata": {},
   "outputs": [],
   "source": [
    "# Function for calculating FIRST parameter (each day's high - low)\n",
    "\n",
    "def calculate_high_low_diff(df):\n",
    "    high_low_values = df[\"High\"] - df[\"Low\"]\n",
    "    new_df = pd.DataFrame({\"Date\": df[\"Date\"], \"High-Low\": high_low_values})\n",
    "    return new_df\n",
    "\n"
   ]
  },
  {
   "cell_type": "code",
   "execution_count": 3,
   "id": "4264dbe9",
   "metadata": {},
   "outputs": [],
   "source": [
    "# Variable 1\n",
    "# New DataFrame for each company's High-Low Variable\n",
    "\n",
    "goldman_high_minus_low = calculate_high_low_diff(goldman_df)\n",
    "johnson_high_minus_low = calculate_high_low_diff(johnson_df)\n",
    "jpmorgan_high_minus_low = calculate_high_low_diff(jpmorgan_df)\n",
    "nike_high_minus_low = calculate_high_low_diff(nike_df)\n",
    "pfizer_high_minus_low = calculate_high_low_diff(pfizer_df)\n"
   ]
  },
  {
   "cell_type": "code",
   "execution_count": 4,
   "id": "a1595175",
   "metadata": {},
   "outputs": [],
   "source": [
    "# Function for calculating SECOND parameter (each day's close - open)\n",
    "\n",
    "def calculate_close_open_diff(df):\n",
    "    new_df = pd.DataFrame()\n",
    "    new_df['Date'] = df['Date']\n",
    "    new_df['Close-Open'] = df['Close'] - df['Open']\n",
    "    return new_df\n"
   ]
  },
  {
   "cell_type": "code",
   "execution_count": 5,
   "id": "72992b98",
   "metadata": {},
   "outputs": [
    {
     "name": "stdout",
     "output_type": "stream",
     "text": [
      "            Date  Close-Open\n",
      "0     2009-04-06    0.650002\n",
      "1     2009-04-07    2.080002\n",
      "2     2009-04-08   -2.620003\n",
      "3     2009-04-09    4.540001\n",
      "4     2009-04-13    7.339996\n",
      "...          ...         ...\n",
      "2007  2017-03-27    2.179993\n",
      "2008  2017-03-28    3.750000\n",
      "2009  2017-03-29   -0.940002\n",
      "2010  2017-03-30    1.740005\n",
      "2011  2017-03-31   -0.809998\n",
      "\n",
      "[2012 rows x 2 columns]\n"
     ]
    }
   ],
   "source": [
    "# Variable 2\n",
    "# New DataFrame for each company's Close-Open Variable\n",
    "\n",
    "goldman_close_minus_open = calculate_close_open_diff(goldman_df)\n",
    "johnson_close_minus_open = calculate_close_open_diff(johnson_df)\n",
    "jpmorgan_close_minus_open = calculate_close_open_diff(jpmorgan_df)\n",
    "nike_close_minus_open = calculate_close_open_diff(nike_df)\n",
    "pfizer_high_close_minus_open = calculate_close_open_diff(pfizer_df)\n",
    "\n",
    "print(goldman_close_minus_open)\n"
   ]
  },
  {
   "cell_type": "code",
   "execution_count": 17,
   "id": "dcdc7661",
   "metadata": {},
   "outputs": [],
   "source": [
    "# Function for calculating 3rd|4th|5th parameters (7|14|21 Day Moving Average) and gets rid of NaN values\n",
    "\n",
    "def moving_average(dataframe, days):\n",
    "    # Create a new dataframe with the moving average\n",
    "    ma_df = pd.DataFrame()\n",
    "#     ma_df['Date'] = dataframe['Date']\n",
    "    ma_df['Moving Avg'] = dataframe['Close'].rolling(window=days).mean()\n",
    "\n",
    "    # Add a column with the date of each week\n",
    "    ma_df['Week'] = pd.to_datetime(dataframe['Date']).dt.to_period('W').dt.start_time\n",
    "    \n",
    "    # Group by week and get the last date and moving average for each week\n",
    "    ma_df = ma_df.groupby('Week').tail(1)\n",
    "    \n",
    "    # Remove NaN values\n",
    "    ma_df = ma_df.dropna()\n",
    "\n",
    "    return ma_df\n"
   ]
  },
  {
   "cell_type": "code",
   "execution_count": 22,
   "id": "55dd02bc",
   "metadata": {},
   "outputs": [
    {
     "name": "stdout",
     "output_type": "stream",
     "text": [
      "    Moving Avg       Week\n",
      "8   121.045714 2009-04-13\n",
      "13  120.251429 2009-04-20\n",
      "18  124.062858 2009-04-27\n",
      "23  133.925714 2009-05-04\n",
      "28  134.538570 2009-05-11\n"
     ]
    }
   ],
   "source": [
    "# Variable 3\n",
    "# New DataFrame for each company's 7 day Moving Average\n",
    "\n",
    "goldman_7D_movingAverage = moving_average(goldman_df, 7)\n",
    "johnson_7D_movingAverage = moving_average(johnson_df, 7)\n",
    "jpmorgan_7D_movingAverage = moving_average(jpmorgan_df, 7)\n",
    "nike_7D_movingAverage = moving_average(nike_df, 7)\n",
    "pfizer_7D_movingAverage = moving_average(pfizer_df, 7)\n",
    "\n",
    "\n"
   ]
  },
  {
   "cell_type": "code",
   "execution_count": 23,
   "id": "9e7e1033",
   "metadata": {},
   "outputs": [
    {
     "name": "stdout",
     "output_type": "stream",
     "text": [
      "    Moving Avg       Week\n",
      "13  120.001429 2009-04-20\n",
      "18  121.599286 2009-04-27\n",
      "23  127.942143 2009-05-04\n",
      "28  132.412857 2009-05-11\n",
      "33  136.459999 2009-05-18\n"
     ]
    }
   ],
   "source": [
    "# Variable 4\n",
    "# New DataFrame for each company's 14 day Moving Average\n",
    "\n",
    "goldman_14D_movingAverage = moving_average(goldman_df, 14)\n",
    "johnson_14D_movingAverage = moving_average(johnson_df, 14)\n",
    "jpmorgan_14D_movingAverage = moving_average(jpmorgan_df, 14)\n",
    "nike_14D_movingAverage = moving_average(nike_df, 14)\n",
    "pfizer_14D_movingAverage = moving_average(pfizer_df, 14)\n",
    "\n"
   ]
  },
  {
   "cell_type": "code",
   "execution_count": 24,
   "id": "954a05c0",
   "metadata": {},
   "outputs": [
    {
     "name": "stdout",
     "output_type": "stream",
     "text": [
      "    Moving Avg       Week\n",
      "23  125.655714 2009-05-04\n",
      "28  128.345238 2009-05-11\n",
      "33  132.868095 2009-05-18\n",
      "37  136.736190 2009-05-25\n",
      "42  139.780476 2009-06-01\n"
     ]
    }
   ],
   "source": [
    "# Variable 5\n",
    "# New DataFrame for each company's 21 day Moving Average\n",
    "\n",
    "goldman_21D_movingAverage = moving_average(goldman_df, 21)\n",
    "johnson_21D_movingAverage = moving_average(johnson_df, 21)\n",
    "jpmorgan_21D_movingAverage = moving_average(jpmorgan_df, 21)\n",
    "nike_21D_movingAverage = moving_average(nike_df, 21)\n",
    "pfizer_21D_movingAverage = moving_average(pfizer_df, 21)\n"
   ]
  },
  {
   "cell_type": "code",
   "execution_count": 29,
   "id": "ba5fafb1",
   "metadata": {},
   "outputs": [],
   "source": [
    "# Function for calculating 6th parameter: Std for past 7 days and gets rid of NaN values\n",
    "\n",
    "def calculate_7day_std_dev(df):\n",
    "    # Create a new DataFrame with just the date and close columns\n",
    "    close_df = df[['Date', 'Close']].copy()\n",
    "\n",
    "    # Calculate the 7-day rolling standard deviation of the closing price\n",
    "    close_df['7 Day Std Dev'] = close_df['Close'].rolling(window=7).std()\n",
    "\n",
    "    # Drop the first 6 rows (since we don't have enough data to calculate the 7-day std dev for them)\n",
    "    close_df = close_df.dropna()\n",
    "\n",
    "    return close_df\n",
    "\n",
    "\n"
   ]
  },
  {
   "cell_type": "code",
   "execution_count": 32,
   "id": "20393880",
   "metadata": {},
   "outputs": [
    {
     "name": "stdout",
     "output_type": "stream",
     "text": [
      "          Date       Close  7 Day Std Dev\n",
      "6   2009-04-15  121.190002       5.785302\n",
      "7   2009-04-16  121.190002       5.632117\n",
      "8   2009-04-17  120.599998       5.303827\n",
      "9   2009-04-20  115.010002       5.253056\n",
      "10  2009-04-21  120.360001       5.054612\n"
     ]
    }
   ],
   "source": [
    "# Variable 6\n",
    "# New DataFrame for each company's Past 7 day std\n",
    "\n",
    "goldman_7D_STD = calculate_7day_std_dev(goldman_df)\n",
    "johnson_7D_STD = calculate_7day_std_dev(johnson_df)\n",
    "jpmorgan_7D_STD = calculate_7day_std_dev(jpmorgan_df)\n",
    "nike_7D_STD = calculate_7day_std_dev(nike_df)\n",
    "pfizer_7D_STD = calculate_7day_std_dev(pfizer_df)\n"
   ]
  },
  {
   "cell_type": "code",
   "execution_count": null,
   "id": "9e3834bd",
   "metadata": {},
   "outputs": [],
   "source": []
  }
 ],
 "metadata": {
  "kernelspec": {
   "display_name": "Python 3 (ipykernel)",
   "language": "python",
   "name": "python3"
  },
  "language_info": {
   "codemirror_mode": {
    "name": "ipython",
    "version": 3
   },
   "file_extension": ".py",
   "mimetype": "text/x-python",
   "name": "python",
   "nbconvert_exporter": "python",
   "pygments_lexer": "ipython3",
   "version": "3.11.1"
  }
 },
 "nbformat": 4,
 "nbformat_minor": 5
}
